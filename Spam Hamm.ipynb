{
 "cells": [
  {
   "cell_type": "code",
   "execution_count": 1,
   "metadata": {},
   "outputs": [],
   "source": [
    "import numpy as np\n",
    "import pandas as pd\n",
    "import nltk\n",
    "import re\n",
    "import string\n",
    "import matplotlib.pyplot as plt\n",
    "%matplotlib inline"
   ]
  },
  {
   "cell_type": "markdown",
   "metadata": {},
   "source": [
    "<b>Note:</b><br>\n",
    "<ul>\n",
    "    <li>How to install nltk?</li><br>\n",
    "    <p>pip install nltk</p>\n",
    "</ul>"
   ]
  },
  {
   "cell_type": "markdown",
   "metadata": {},
   "source": [
    "nltk.download()"
   ]
  },
  {
   "cell_type": "code",
   "execution_count": 2,
   "metadata": {},
   "outputs": [],
   "source": [
    "pd.set_option('display.max_colwidth', 500)"
   ]
  },
  {
   "cell_type": "code",
   "execution_count": 3,
   "metadata": {},
   "outputs": [],
   "source": [
    "import os\n",
    "import email\n",
    "import email.policy\n",
    "\n",
    "ham_messages_list = os.listdir('ham')\n",
    "spam_messages_list = os.listdir('spam')"
   ]
  },
  {
   "cell_type": "code",
   "execution_count": 4,
   "metadata": {},
   "outputs": [],
   "source": [
    "def load_email(path, filename):\n",
    "    with open(os.path.join(path, filename), 'rb') as file:\n",
    "        email_file = email.parser.BytesParser(policy = email.policy.default).parse(file)\n",
    "    return email_file\n",
    "\n",
    "ham_emails = [load_email('ham', filename) for filename in ham_messages_list]\n",
    "spam_emails = [load_email('spam', filename) for filename in spam_messages_list]"
   ]
  },
  {
   "cell_type": "code",
   "execution_count": 5,
   "metadata": {},
   "outputs": [],
   "source": [
    "def cleanhtml(raw_html):\n",
    "    cleanr = re.compile('<.*?>')\n",
    "    cleantext = re.sub(cleanr, '', raw_html)\n",
    "    return cleantext"
   ]
  },
  {
   "cell_type": "code",
   "execution_count": 6,
   "metadata": {},
   "outputs": [],
   "source": [
    "def create_dataframes(emails, label):\n",
    "    email_df = []\n",
    "    for email in emails:\n",
    "        try:\n",
    "            if email.get_content_type() == 'text/plain' or email.get_content_type() == 'text/html' :\n",
    "                l = email.get_content()\n",
    "                l = cleanhtml(l)\n",
    "                l = l.replace('\\n',' ')\n",
    "                email_df.append(l)      \n",
    "        except LookupError: pass\n",
    "    email_df = pd.DataFrame(email_df, columns = ['Content'])\n",
    "    email_df['Label'] = label\n",
    "    return email_df\n",
    "\n",
    "ham_df = create_dataframes(ham_emails, 1)\n",
    "spam_df = create_dataframes(spam_emails, 0)"
   ]
  },
  {
   "cell_type": "markdown",
   "metadata": {},
   "source": [
    "<b>Concatenate both dataframes</b>"
   ]
  },
  {
   "cell_type": "code",
   "execution_count": 120,
   "metadata": {},
   "outputs": [
    {
     "data": {
      "text/html": [
       "<div>\n",
       "<style scoped>\n",
       "    .dataframe tbody tr th:only-of-type {\n",
       "        vertical-align: middle;\n",
       "    }\n",
       "\n",
       "    .dataframe tbody tr th {\n",
       "        vertical-align: top;\n",
       "    }\n",
       "\n",
       "    .dataframe thead th {\n",
       "        text-align: right;\n",
       "    }\n",
       "</style>\n",
       "<table border=\"1\" class=\"dataframe\">\n",
       "  <thead>\n",
       "    <tr style=\"text-align: right;\">\n",
       "      <th></th>\n",
       "      <th>Content</th>\n",
       "      <th>Label</th>\n",
       "    </tr>\n",
       "  </thead>\n",
       "  <tbody>\n",
       "    <tr>\n",
       "      <th>2366</th>\n",
       "      <td>URL: http://jeremy.zawodny.com/blog/archives/000193.html Date: 2002-09-25T22:51:45-08:00  First of all, thanks for all the great feedback. I see that a lot of folks are  pulling it now. I'm working on some stats. It'll be interesting to see which  stocks bloggers tend to watch, which aggregators they use,...</td>\n",
       "      <td>1</td>\n",
       "    </tr>\n",
       "    <tr>\n",
       "      <th>987</th>\n",
       "      <td>URL: http://www.newsisfree.com/click/-1,8390121,1717/ Date: 2002-09-30T11:09:21+01:00  [IMG: http://www.newsisfree.com/Images/fark/yahoonews.gif ([Yahoo])]</td>\n",
       "      <td>1</td>\n",
       "    </tr>\n",
       "  </tbody>\n",
       "</table>\n",
       "</div>"
      ],
      "text/plain": [
       "                                                                                                                                                                                                                                                                                                                       Content  \\\n",
       "2366  URL: http://jeremy.zawodny.com/blog/archives/000193.html Date: 2002-09-25T22:51:45-08:00  First of all, thanks for all the great feedback. I see that a lot of folks are  pulling it now. I'm working on some stats. It'll be interesting to see which  stocks bloggers tend to watch, which aggregators they use,...      \n",
       "987                                                                                                                                                             URL: http://www.newsisfree.com/click/-1,8390121,1717/ Date: 2002-09-30T11:09:21+01:00  [IMG: http://www.newsisfree.com/Images/fark/yahoonews.gif ([Yahoo])]      \n",
       "\n",
       "      Label  \n",
       "2366      1  \n",
       "987       1  "
      ]
     },
     "execution_count": 120,
     "metadata": {},
     "output_type": "execute_result"
    }
   ],
   "source": [
    "data = pd.concat([ham_df,spam_df], axis=0)\n",
    "data = data.sample(frac=1)\n",
    "data.head(2)"
   ]
  },
  {
   "cell_type": "markdown",
   "metadata": {},
   "source": [
    "<b>Checking for type text other than string is present or not.</b>"
   ]
  },
  {
   "cell_type": "code",
   "execution_count": 121,
   "metadata": {},
   "outputs": [],
   "source": [
    "for i in data['Content']:\n",
    "    if type(i) != str:\n",
    "        print(type(i),end = ',')"
   ]
  },
  {
   "cell_type": "markdown",
   "metadata": {},
   "source": [
    "<b>Change Column names</b>"
   ]
  },
  {
   "cell_type": "code",
   "execution_count": 122,
   "metadata": {},
   "outputs": [
    {
     "name": "stdout",
     "output_type": "stream",
     "text": [
      "Index(['body_text', 'label'], dtype='object')\n"
     ]
    }
   ],
   "source": [
    "data.columns = ['body_text', 'label']\n",
    "print(data.columns)"
   ]
  },
  {
   "cell_type": "markdown",
   "metadata": {},
   "source": [
    "<b>Feature Extraction</b>"
   ]
  },
  {
   "cell_type": "markdown",
   "metadata": {},
   "source": [
    "<i>Body length as feature</i>"
   ]
  },
  {
   "cell_type": "code",
   "execution_count": 123,
   "metadata": {},
   "outputs": [
    {
     "data": {
      "text/html": [
       "<div>\n",
       "<style scoped>\n",
       "    .dataframe tbody tr th:only-of-type {\n",
       "        vertical-align: middle;\n",
       "    }\n",
       "\n",
       "    .dataframe tbody tr th {\n",
       "        vertical-align: top;\n",
       "    }\n",
       "\n",
       "    .dataframe thead th {\n",
       "        text-align: right;\n",
       "    }\n",
       "</style>\n",
       "<table border=\"1\" class=\"dataframe\">\n",
       "  <thead>\n",
       "    <tr style=\"text-align: right;\">\n",
       "      <th></th>\n",
       "      <th>body_text</th>\n",
       "      <th>label</th>\n",
       "      <th>body_len</th>\n",
       "    </tr>\n",
       "  </thead>\n",
       "  <tbody>\n",
       "    <tr>\n",
       "      <th>2366</th>\n",
       "      <td>URL: http://jeremy.zawodny.com/blog/archives/000193.html Date: 2002-09-25T22:51:45-08:00  First of all, thanks for all the great feedback. I see that a lot of folks are  pulling it now. I'm working on some stats. It'll be interesting to see which  stocks bloggers tend to watch, which aggregators they use,...</td>\n",
       "      <td>1</td>\n",
       "      <td>263</td>\n",
       "    </tr>\n",
       "    <tr>\n",
       "      <th>987</th>\n",
       "      <td>URL: http://www.newsisfree.com/click/-1,8390121,1717/ Date: 2002-09-30T11:09:21+01:00  [IMG: http://www.newsisfree.com/Images/fark/yahoonews.gif ([Yahoo])]</td>\n",
       "      <td>1</td>\n",
       "      <td>148</td>\n",
       "    </tr>\n",
       "  </tbody>\n",
       "</table>\n",
       "</div>"
      ],
      "text/plain": [
       "                                                                                                                                                                                                                                                                                                                     body_text  \\\n",
       "2366  URL: http://jeremy.zawodny.com/blog/archives/000193.html Date: 2002-09-25T22:51:45-08:00  First of all, thanks for all the great feedback. I see that a lot of folks are  pulling it now. I'm working on some stats. It'll be interesting to see which  stocks bloggers tend to watch, which aggregators they use,...      \n",
       "987                                                                                                                                                             URL: http://www.newsisfree.com/click/-1,8390121,1717/ Date: 2002-09-30T11:09:21+01:00  [IMG: http://www.newsisfree.com/Images/fark/yahoonews.gif ([Yahoo])]      \n",
       "\n",
       "      label  body_len  \n",
       "2366      1       263  \n",
       "987       1       148  "
      ]
     },
     "execution_count": 123,
     "metadata": {},
     "output_type": "execute_result"
    }
   ],
   "source": [
    "data['body_len'] = data['body_text'].apply(lambda x: len(x) - x.count(\" \"))\n",
    "data.head(2)"
   ]
  },
  {
   "cell_type": "markdown",
   "metadata": {},
   "source": [
    "<i>Punctuation as feature</i>"
   ]
  },
  {
   "cell_type": "code",
   "execution_count": 124,
   "metadata": {},
   "outputs": [
    {
     "data": {
      "text/html": [
       "<div>\n",
       "<style scoped>\n",
       "    .dataframe tbody tr th:only-of-type {\n",
       "        vertical-align: middle;\n",
       "    }\n",
       "\n",
       "    .dataframe tbody tr th {\n",
       "        vertical-align: top;\n",
       "    }\n",
       "\n",
       "    .dataframe thead th {\n",
       "        text-align: right;\n",
       "    }\n",
       "</style>\n",
       "<table border=\"1\" class=\"dataframe\">\n",
       "  <thead>\n",
       "    <tr style=\"text-align: right;\">\n",
       "      <th></th>\n",
       "      <th>body_text</th>\n",
       "      <th>label</th>\n",
       "      <th>body_len</th>\n",
       "      <th>punct%</th>\n",
       "    </tr>\n",
       "  </thead>\n",
       "  <tbody>\n",
       "    <tr>\n",
       "      <th>2366</th>\n",
       "      <td>URL: http://jeremy.zawodny.com/blog/archives/000193.html Date: 2002-09-25T22:51:45-08:00  First of all, thanks for all the great feedback. I see that a lot of folks are  pulling it now. I'm working on some stats. It'll be interesting to see which  stocks bloggers tend to watch, which aggregators they use,...</td>\n",
       "      <td>1</td>\n",
       "      <td>263</td>\n",
       "      <td>10.6</td>\n",
       "    </tr>\n",
       "    <tr>\n",
       "      <th>987</th>\n",
       "      <td>URL: http://www.newsisfree.com/click/-1,8390121,1717/ Date: 2002-09-30T11:09:21+01:00  [IMG: http://www.newsisfree.com/Images/fark/yahoonews.gif ([Yahoo])]</td>\n",
       "      <td>1</td>\n",
       "      <td>148</td>\n",
       "      <td>23.6</td>\n",
       "    </tr>\n",
       "  </tbody>\n",
       "</table>\n",
       "</div>"
      ],
      "text/plain": [
       "                                                                                                                                                                                                                                                                                                                     body_text  \\\n",
       "2366  URL: http://jeremy.zawodny.com/blog/archives/000193.html Date: 2002-09-25T22:51:45-08:00  First of all, thanks for all the great feedback. I see that a lot of folks are  pulling it now. I'm working on some stats. It'll be interesting to see which  stocks bloggers tend to watch, which aggregators they use,...      \n",
       "987                                                                                                                                                             URL: http://www.newsisfree.com/click/-1,8390121,1717/ Date: 2002-09-30T11:09:21+01:00  [IMG: http://www.newsisfree.com/Images/fark/yahoonews.gif ([Yahoo])]      \n",
       "\n",
       "      label  body_len  punct%  \n",
       "2366      1       263    10.6  \n",
       "987       1       148    23.6  "
      ]
     },
     "execution_count": 124,
     "metadata": {},
     "output_type": "execute_result"
    }
   ],
   "source": [
    "def count_punctuation(text):\n",
    "    count = sum([1 for char in text if char in string.punctuation])\n",
    "    try: \n",
    "        count = round(count/(len(text) - text.count(\" \")), 3)*100\n",
    "    except ZeroDivisionError:\n",
    "        count = round(count/(len(text)), 3)*100\n",
    "    return round(count, 3)\n",
    "\n",
    "data['punct%'] = data['body_text'].apply(lambda x: count_punctuation(x))\n",
    "data.head(2)"
   ]
  },
  {
   "cell_type": "markdown",
   "metadata": {},
   "source": [
    "<b>Feature evaluation for body length</b>"
   ]
  },
  {
   "cell_type": "code",
   "execution_count": 125,
   "metadata": {},
   "outputs": [
    {
     "data": {
      "image/png": "[encoded data removed]",
      "text/plain": [
       "<Figure size 432x288 with 1 Axes>"
      ]
     },
     "metadata": {
      "needs_background": "light"
     },
     "output_type": "display_data"
    }
   ],
   "source": [
    "bins = np.linspace(0, max(data['body_len']), 40)\n",
    "\n",
    "plt.hist(data[data[\"label\"]==0]['body_len'], bins, alpha = 0.5, density=True, label=\"spam\")\n",
    "plt.hist(data[data[\"label\"]==1]['body_len'], bins, alpha = 0.5, density=True, label=\"ham\")\n",
    "plt.legend(loc='upper right')\n",
    "plt.show()"
   ]
  },
  {
   "cell_type": "markdown",
   "metadata": {},
   "source": [
    "<li>Note: <p>From above graph a huge data points are existed between 0 to 60000.</p></li>"
   ]
  },
  {
   "cell_type": "code",
   "execution_count": 126,
   "metadata": {},
   "outputs": [
    {
     "data": {
      "image/png": "[encoded data removed]",
      "text/plain": [
       "<Figure size 432x288 with 1 Axes>"
      ]
     },
     "metadata": {
      "needs_background": "light"
     },
     "output_type": "display_data"
    }
   ],
   "source": [
    "bins = np.linspace(0, 6000, 40)\n",
    "\n",
    "plt.hist(data[data[\"label\"]==0]['body_len'], bins, alpha = 0.5, density=True, label=\"spam\")\n",
    "plt.hist(data[data[\"label\"]==1]['body_len'], bins, alpha = 0.5, density=True, label=\"ham\")\n",
    "plt.legend(loc='upper right')\n",
    "plt.show()"
   ]
  },
  {
   "cell_type": "markdown",
   "metadata": {},
   "source": [
    "<b>Feature evaluation for punctuation</b>"
   ]
  },
  {
   "cell_type": "code",
   "execution_count": 127,
   "metadata": {},
   "outputs": [
    {
     "data": {
      "image/png": "[encoded data removed]",
      "text/plain": [
       "<Figure size 432x288 with 1 Axes>"
      ]
     },
     "metadata": {
      "needs_background": "light"
     },
     "output_type": "display_data"
    }
   ],
   "source": [
    "bins = np.linspace(0, 40, 40)\n",
    "\n",
    "plt.hist(data[data[\"label\"]==0]['punct%'], bins, alpha = 0.5, density=True, label=\"spam\")\n",
    "plt.hist(data[data[\"label\"]==1]['punct%'], bins, alpha = 0.5, density=True, label=\"ham\")\n",
    "plt.legend(loc='upper right')\n",
    "plt.show()"
   ]
  },
  {
   "cell_type": "code",
   "execution_count": 128,
   "metadata": {},
   "outputs": [
    {
     "data": {
      "image/png": "[encoded data removed]",
      "text/plain": [
       "<Figure size 432x288 with 1 Axes>"
      ]
     },
     "metadata": {
      "needs_background": "light"
     },
     "output_type": "display_data"
    },
    {
     "name": "stdout",
     "output_type": "stream",
     "text": [
      "It is a left skewed data\n"
     ]
    }
   ],
   "source": [
    "bins = np.linspace(0, 6000, 40)\n",
    "\n",
    "plt.hist(data['body_len'], bins)\n",
    "plt.title(\"Body length Distribution\")\n",
    "plt.show()\n",
    "print(\"It is a left skewed data\")"
   ]
  },
  {
   "cell_type": "code",
   "execution_count": 129,
   "metadata": {},
   "outputs": [
    {
     "data": {
      "image/png": "[encoded data removed]",
      "text/plain": [
       "<Figure size 432x288 with 1 Axes>"
      ]
     },
     "metadata": {
      "needs_background": "light"
     },
     "output_type": "display_data"
    }
   ],
   "source": [
    "bins = np.linspace(0, 40, 40)\n",
    "\n",
    "plt.hist(data['punct%'], bins)\n",
    "plt.title(\"Body length Distribution\")\n",
    "plt.show()"
   ]
  },
  {
   "cell_type": "markdown",
   "metadata": {},
   "source": [
    "<li>Note: <p>Our features contains huge outliers.</p></li>"
   ]
  },
  {
   "cell_type": "markdown",
   "metadata": {},
   "source": [
    "<b>Transformation for features</b>"
   ]
  },
  {
   "cell_type": "code",
   "execution_count": 130,
   "metadata": {},
   "outputs": [
    {
     "data": {
      "image/png": "[encoded data removed]",
      "text/plain": [
       "<Figure size 432x288 with 1 Axes>"
      ]
     },
     "metadata": {
      "needs_background": "light"
     },
     "output_type": "display_data"
    },
    {
     "data": {
      "image/png": "[encoded data removed]",
      "text/plain": [
       "<Figure size 432x288 with 1 Axes>"
      ]
     },
     "metadata": {
      "needs_background": "light"
     },
     "output_type": "display_data"
    },
    {
     "data": {
      "image/png": "[encoded data removed]",
      "text/plain": [
       "<Figure size 432x288 with 1 Axes>"
      ]
     },
     "metadata": {
      "needs_background": "light"
     },
     "output_type": "display_data"
    },
    {
     "data": {
      "image/png": "[encoded data removed]",
      "text/plain": [
       "<Figure size 432x288 with 1 Axes>"
      ]
     },
     "metadata": {
      "needs_background": "light"
     },
     "output_type": "display_data"
    },
    {
     "data": {
      "image/png": "[encoded data removed]",
      "text/plain": [
       "<Figure size 432x288 with 1 Axes>"
      ]
     },
     "metadata": {
      "needs_background": "light"
     },
     "output_type": "display_data"
    }
   ],
   "source": [
    "for i in [1, 2, 3, 4, 5]:\n",
    "    plt.hist((data['punct%'])**(1/i), bins=40)\n",
    "    plt.title(\"Transformation: 1/{}\".format(str(i)))\n",
    "    plt.show()"
   ]
  },
  {
   "cell_type": "markdown",
   "metadata": {},
   "source": [
    "<li>Note: $y^{1/4}$ Transformation is good for Punctuation.</li>"
   ]
  },
  {
   "cell_type": "code",
   "execution_count": 131,
   "metadata": {},
   "outputs": [
    {
     "data": {
      "image/png": "[encoded data removed]",
      "text/plain": [
       "<Figure size 432x288 with 1 Axes>"
      ]
     },
     "metadata": {
      "needs_background": "light"
     },
     "output_type": "display_data"
    },
    {
     "data": {
      "image/png": "[encoded data removed]",
      "text/plain": [
       "<Figure size 432x288 with 1 Axes>"
      ]
     },
     "metadata": {
      "needs_background": "light"
     },
     "output_type": "display_data"
    },
    {
     "data": {
      "image/png": "[encoded data removed]",
      "text/plain": [
       "<Figure size 432x288 with 1 Axes>"
      ]
     },
     "metadata": {
      "needs_background": "light"
     },
     "output_type": "display_data"
    },
    {
     "data": {
      "image/png": "[encoded data removed]",
      "text/plain": [
       "<Figure size 432x288 with 1 Axes>"
      ]
     },
     "metadata": {
      "needs_background": "light"
     },
     "output_type": "display_data"
    }
   ],
   "source": [
    "for i in [4, 5, 6, 7]:\n",
    "    plt.hist((data['body_len'])**(1/i), bins=40)\n",
    "    plt.title(\"Transformation: 1/{}\".format(str(i)))\n",
    "    plt.show()"
   ]
  },
  {
   "cell_type": "markdown",
   "metadata": {},
   "source": [
    "<li>Note: $y^{1/7}$ Transformation is good for Body length.</li>"
   ]
  },
  {
   "cell_type": "code",
   "execution_count": 132,
   "metadata": {},
   "outputs": [],
   "source": [
    "data['body_len'] = data['body_len'].apply(lambda x: x**(1/7))\n",
    "data['punct%'] = data['punct%'].apply(lambda x: x**(1/4))\n",
    "labels = data['label']"
   ]
  },
  {
   "cell_type": "markdown",
   "metadata": {},
   "source": [
    "<b>Stemming and tokenization</b>"
   ]
  },
  {
   "cell_type": "code",
   "execution_count": 133,
   "metadata": {},
   "outputs": [],
   "source": [
    "stop_words = nltk.corpus.stopwords.words('english')\n",
    "ps = nltk.PorterStemmer()"
   ]
  },
  {
   "cell_type": "code",
   "execution_count": 134,
   "metadata": {},
   "outputs": [],
   "source": [
    "def clean_text(text):\n",
    "    text = \"\".join([word.lower() for word in text if text not in string.punctuation])\n",
    "    text = re.sub(r\"[^a-zA-Z0-9]+\", ' ', text)\n",
    "    tokens = re.split('\\W+', text)\n",
    "    text = [ps.stem(word) for word in tokens if word not in stop_words]\n",
    "    return text"
   ]
  },
  {
   "cell_type": "markdown",
   "metadata": {},
   "source": [
    "<b>Vectorization</b>"
   ]
  },
  {
   "cell_type": "code",
   "execution_count": 135,
   "metadata": {},
   "outputs": [],
   "source": [
    "from sklearn.feature_extraction.text import TfidfVectorizer, CountVectorizer\n",
    "\n",
    "tf_vect = TfidfVectorizer(analyzer=clean_text)\n",
    "X_tfidf = tf_vect.fit_transform(data['body_text'])\n",
    "\n",
    "count_vect = CountVectorizer(analyzer=clean_text)\n",
    "X_counts = count_vect.fit_transform(data['body_text'])"
   ]
  },
  {
   "cell_type": "code",
   "execution_count": 51,
   "metadata": {},
   "outputs": [],
   "source": [
    "def vector_features(vectorizer):\n",
    "    data['body_len'].reset_index(drop=True, inplace=True)\n",
    "    data['punct%'].reset_index(drop=True, inplace=True)\n",
    "    X_features = pd.concat([data['body_len'], data['punct%'], pd.DataFrame(vectorizer.toarray())], axis=1)\n",
    "    return X_features"
   ]
  },
  {
   "cell_type": "code",
   "execution_count": 53,
   "metadata": {},
   "outputs": [
    {
     "data": {
      "text/html": [
       "<div>\n",
       "<style scoped>\n",
       "    .dataframe tbody tr th:only-of-type {\n",
       "        vertical-align: middle;\n",
       "    }\n",
       "\n",
       "    .dataframe tbody tr th {\n",
       "        vertical-align: top;\n",
       "    }\n",
       "\n",
       "    .dataframe thead th {\n",
       "        text-align: right;\n",
       "    }\n",
       "</style>\n",
       "<table border=\"1\" class=\"dataframe\">\n",
       "  <thead>\n",
       "    <tr style=\"text-align: right;\">\n",
       "      <th></th>\n",
       "      <th>body_len</th>\n",
       "      <th>punct%</th>\n",
       "      <th>0</th>\n",
       "      <th>1</th>\n",
       "      <th>2</th>\n",
       "      <th>3</th>\n",
       "      <th>4</th>\n",
       "      <th>5</th>\n",
       "      <th>6</th>\n",
       "      <th>7</th>\n",
       "      <th>...</th>\n",
       "      <th>29376</th>\n",
       "      <th>29377</th>\n",
       "      <th>29378</th>\n",
       "      <th>29379</th>\n",
       "      <th>29380</th>\n",
       "      <th>29381</th>\n",
       "      <th>29382</th>\n",
       "      <th>29383</th>\n",
       "      <th>29384</th>\n",
       "      <th>29385</th>\n",
       "    </tr>\n",
       "  </thead>\n",
       "  <tbody>\n",
       "    <tr>\n",
       "      <th>0</th>\n",
       "      <td>2.209409</td>\n",
       "      <td>1.800103</td>\n",
       "      <td>0.055356</td>\n",
       "      <td>0.000000</td>\n",
       "      <td>0.000000</td>\n",
       "      <td>0.0</td>\n",
       "      <td>0.0</td>\n",
       "      <td>0.0</td>\n",
       "      <td>0.0</td>\n",
       "      <td>0.0</td>\n",
       "      <td>...</td>\n",
       "      <td>0.0</td>\n",
       "      <td>0.0</td>\n",
       "      <td>0.0</td>\n",
       "      <td>0.0</td>\n",
       "      <td>0.0</td>\n",
       "      <td>0.0</td>\n",
       "      <td>0.0</td>\n",
       "      <td>0.0</td>\n",
       "      <td>0.0</td>\n",
       "      <td>0.0</td>\n",
       "    </tr>\n",
       "    <tr>\n",
       "      <th>1</th>\n",
       "      <td>2.481849</td>\n",
       "      <td>1.608862</td>\n",
       "      <td>0.023694</td>\n",
       "      <td>0.032145</td>\n",
       "      <td>0.030531</td>\n",
       "      <td>0.0</td>\n",
       "      <td>0.0</td>\n",
       "      <td>0.0</td>\n",
       "      <td>0.0</td>\n",
       "      <td>0.0</td>\n",
       "      <td>...</td>\n",
       "      <td>0.0</td>\n",
       "      <td>0.0</td>\n",
       "      <td>0.0</td>\n",
       "      <td>0.0</td>\n",
       "      <td>0.0</td>\n",
       "      <td>0.0</td>\n",
       "      <td>0.0</td>\n",
       "      <td>0.0</td>\n",
       "      <td>0.0</td>\n",
       "      <td>0.0</td>\n",
       "    </tr>\n",
       "    <tr>\n",
       "      <th>2</th>\n",
       "      <td>2.573205</td>\n",
       "      <td>1.584292</td>\n",
       "      <td>0.037733</td>\n",
       "      <td>0.000000</td>\n",
       "      <td>0.000000</td>\n",
       "      <td>0.0</td>\n",
       "      <td>0.0</td>\n",
       "      <td>0.0</td>\n",
       "      <td>0.0</td>\n",
       "      <td>0.0</td>\n",
       "      <td>...</td>\n",
       "      <td>0.0</td>\n",
       "      <td>0.0</td>\n",
       "      <td>0.0</td>\n",
       "      <td>0.0</td>\n",
       "      <td>0.0</td>\n",
       "      <td>0.0</td>\n",
       "      <td>0.0</td>\n",
       "      <td>0.0</td>\n",
       "      <td>0.0</td>\n",
       "      <td>0.0</td>\n",
       "    </tr>\n",
       "  </tbody>\n",
       "</table>\n",
       "<p>3 rows × 29388 columns</p>\n",
       "</div>"
      ],
      "text/plain": [
       "   body_len    punct%         0         1         2    3    4    5    6    7  \\\n",
       "0  2.209409  1.800103  0.055356  0.000000  0.000000  0.0  0.0  0.0  0.0  0.0   \n",
       "1  2.481849  1.608862  0.023694  0.032145  0.030531  0.0  0.0  0.0  0.0  0.0   \n",
       "2  2.573205  1.584292  0.037733  0.000000  0.000000  0.0  0.0  0.0  0.0  0.0   \n",
       "\n",
       "   ...  29376  29377  29378  29379  29380  29381  29382  29383  29384  29385  \n",
       "0  ...    0.0    0.0    0.0    0.0    0.0    0.0    0.0    0.0    0.0    0.0  \n",
       "1  ...    0.0    0.0    0.0    0.0    0.0    0.0    0.0    0.0    0.0    0.0  \n",
       "2  ...    0.0    0.0    0.0    0.0    0.0    0.0    0.0    0.0    0.0    0.0  \n",
       "\n",
       "[3 rows x 29388 columns]"
      ]
     },
     "execution_count": 53,
     "metadata": {},
     "output_type": "execute_result"
    }
   ],
   "source": [
    "X_tfidf_features = vector_features(X_tfidf)\n",
    "X_tfidf_features.head(3)"
   ]
  },
  {
   "cell_type": "code",
   "execution_count": 54,
   "metadata": {},
   "outputs": [
    {
     "data": {
      "text/html": [
       "<div>\n",
       "<style scoped>\n",
       "    .dataframe tbody tr th:only-of-type {\n",
       "        vertical-align: middle;\n",
       "    }\n",
       "\n",
       "    .dataframe tbody tr th {\n",
       "        vertical-align: top;\n",
       "    }\n",
       "\n",
       "    .dataframe thead th {\n",
       "        text-align: right;\n",
       "    }\n",
       "</style>\n",
       "<table border=\"1\" class=\"dataframe\">\n",
       "  <thead>\n",
       "    <tr style=\"text-align: right;\">\n",
       "      <th></th>\n",
       "      <th>body_len</th>\n",
       "      <th>punct%</th>\n",
       "      <th>0</th>\n",
       "      <th>1</th>\n",
       "      <th>2</th>\n",
       "      <th>3</th>\n",
       "      <th>4</th>\n",
       "      <th>5</th>\n",
       "      <th>6</th>\n",
       "      <th>7</th>\n",
       "      <th>...</th>\n",
       "      <th>29376</th>\n",
       "      <th>29377</th>\n",
       "      <th>29378</th>\n",
       "      <th>29379</th>\n",
       "      <th>29380</th>\n",
       "      <th>29381</th>\n",
       "      <th>29382</th>\n",
       "      <th>29383</th>\n",
       "      <th>29384</th>\n",
       "      <th>29385</th>\n",
       "    </tr>\n",
       "  </thead>\n",
       "  <tbody>\n",
       "    <tr>\n",
       "      <th>0</th>\n",
       "      <td>2.209409</td>\n",
       "      <td>1.800103</td>\n",
       "      <td>0.055356</td>\n",
       "      <td>0.000000</td>\n",
       "      <td>0.000000</td>\n",
       "      <td>0.0</td>\n",
       "      <td>0.0</td>\n",
       "      <td>0.0</td>\n",
       "      <td>0.0</td>\n",
       "      <td>0.0</td>\n",
       "      <td>...</td>\n",
       "      <td>0.0</td>\n",
       "      <td>0.0</td>\n",
       "      <td>0.0</td>\n",
       "      <td>0.0</td>\n",
       "      <td>0.0</td>\n",
       "      <td>0.0</td>\n",
       "      <td>0.0</td>\n",
       "      <td>0.0</td>\n",
       "      <td>0.0</td>\n",
       "      <td>0.0</td>\n",
       "    </tr>\n",
       "    <tr>\n",
       "      <th>1</th>\n",
       "      <td>2.481849</td>\n",
       "      <td>1.608862</td>\n",
       "      <td>0.023694</td>\n",
       "      <td>0.032145</td>\n",
       "      <td>0.030531</td>\n",
       "      <td>0.0</td>\n",
       "      <td>0.0</td>\n",
       "      <td>0.0</td>\n",
       "      <td>0.0</td>\n",
       "      <td>0.0</td>\n",
       "      <td>...</td>\n",
       "      <td>0.0</td>\n",
       "      <td>0.0</td>\n",
       "      <td>0.0</td>\n",
       "      <td>0.0</td>\n",
       "      <td>0.0</td>\n",
       "      <td>0.0</td>\n",
       "      <td>0.0</td>\n",
       "      <td>0.0</td>\n",
       "      <td>0.0</td>\n",
       "      <td>0.0</td>\n",
       "    </tr>\n",
       "    <tr>\n",
       "      <th>2</th>\n",
       "      <td>2.573205</td>\n",
       "      <td>1.584292</td>\n",
       "      <td>0.037733</td>\n",
       "      <td>0.000000</td>\n",
       "      <td>0.000000</td>\n",
       "      <td>0.0</td>\n",
       "      <td>0.0</td>\n",
       "      <td>0.0</td>\n",
       "      <td>0.0</td>\n",
       "      <td>0.0</td>\n",
       "      <td>...</td>\n",
       "      <td>0.0</td>\n",
       "      <td>0.0</td>\n",
       "      <td>0.0</td>\n",
       "      <td>0.0</td>\n",
       "      <td>0.0</td>\n",
       "      <td>0.0</td>\n",
       "      <td>0.0</td>\n",
       "      <td>0.0</td>\n",
       "      <td>0.0</td>\n",
       "      <td>0.0</td>\n",
       "    </tr>\n",
       "  </tbody>\n",
       "</table>\n",
       "<p>3 rows × 29388 columns</p>\n",
       "</div>"
      ],
      "text/plain": [
       "   body_len    punct%         0         1         2    3    4    5    6    7  \\\n",
       "0  2.209409  1.800103  0.055356  0.000000  0.000000  0.0  0.0  0.0  0.0  0.0   \n",
       "1  2.481849  1.608862  0.023694  0.032145  0.030531  0.0  0.0  0.0  0.0  0.0   \n",
       "2  2.573205  1.584292  0.037733  0.000000  0.000000  0.0  0.0  0.0  0.0  0.0   \n",
       "\n",
       "   ...  29376  29377  29378  29379  29380  29381  29382  29383  29384  29385  \n",
       "0  ...    0.0    0.0    0.0    0.0    0.0    0.0    0.0    0.0    0.0    0.0  \n",
       "1  ...    0.0    0.0    0.0    0.0    0.0    0.0    0.0    0.0    0.0    0.0  \n",
       "2  ...    0.0    0.0    0.0    0.0    0.0    0.0    0.0    0.0    0.0    0.0  \n",
       "\n",
       "[3 rows x 29388 columns]"
      ]
     },
     "execution_count": 54,
     "metadata": {},
     "output_type": "execute_result"
    }
   ],
   "source": [
    "X_count_features = vector_features(X_tfidf)\n",
    "X_count_features.head(3)"
   ]
  },
  {
   "cell_type": "markdown",
   "metadata": {},
   "source": [
    "<b>Split dataset into train, test, validation</b>"
   ]
  },
  {
   "cell_type": "code",
   "execution_count": 55,
   "metadata": {},
   "outputs": [],
   "source": [
    "from sklearn.model_selection import train_test_split\n",
    "\n",
    "X_train_tf, X_test_tf, y_train_tf, y_test_tf = train_test_split(X_tfidf_features, data['label'], test_size = 0.2, random_state = 42)\n",
    "X_train_count, X_test_count, y_train_count, y_test_count = train_test_split(X_count_features, data['label'], test_size = 0.2, random_state = 42)"
   ]
  },
  {
   "cell_type": "code",
   "execution_count": 56,
   "metadata": {},
   "outputs": [
    {
     "name": "stdout",
     "output_type": "stream",
     "text": [
      "X_train data:  (2282, 29388)\n",
      "X_test data:  (571, 29388)\n"
     ]
    }
   ],
   "source": [
    "print(\"X_train data: \", X_train_tf.shape)\n",
    "print(\"X_test data: \", X_test_tf.shape)"
   ]
  },
  {
   "cell_type": "markdown",
   "metadata": {},
   "source": [
    "<b>Random Forest Classification</b>"
   ]
  },
  {
   "cell_type": "code",
   "execution_count": 57,
   "metadata": {},
   "outputs": [
    {
     "name": "stdout",
     "output_type": "stream",
     "text": [
      "['__abstractmethods__', '__annotations__', '__class__', '__delattr__', '__dict__', '__dir__', '__doc__', '__eq__', '__format__', '__ge__', '__getattribute__', '__getitem__', '__getstate__', '__gt__', '__hash__', '__init__', '__init_subclass__', '__iter__', '__le__', '__len__', '__lt__', '__module__', '__ne__', '__new__', '__reduce__', '__reduce_ex__', '__repr__', '__setattr__', '__setstate__', '__sizeof__', '__str__', '__subclasshook__', '__weakref__', '_abc_impl', '_check_n_features', '_estimator_type', '_get_param_names', '_get_tags', '_make_estimator', '_more_tags', '_repr_html_', '_repr_html_inner', '_repr_mimebundle_', '_required_parameters', '_set_oob_score', '_validate_X_predict', '_validate_data', '_validate_estimator', '_validate_y_class_weight', 'apply', 'base_estimator', 'bootstrap', 'ccp_alpha', 'class_weight', 'criterion', 'decision_path', 'estimator_params', 'feature_importances_', 'fit', 'get_params', 'max_depth', 'max_features', 'max_leaf_nodes', 'max_samples', 'min_impurity_decrease', 'min_impurity_split', 'min_samples_leaf', 'min_samples_split', 'min_weight_fraction_leaf', 'n_estimators', 'n_jobs', 'oob_score', 'predict', 'predict_log_proba', 'predict_proba', 'random_state', 'score', 'set_params', 'verbose', 'warm_start']\n"
     ]
    }
   ],
   "source": [
    "from sklearn.ensemble import RandomForestClassifier\n",
    "\n",
    "print(dir(RandomForestClassifier()))"
   ]
  },
  {
   "cell_type": "markdown",
   "metadata": {},
   "source": [
    "<b>Exploring random forest classifier through Cross-Validation</b>"
   ]
  },
  {
   "cell_type": "code",
   "execution_count": 58,
   "metadata": {},
   "outputs": [
    {
     "data": {
      "text/plain": [
       "array([0.96672504, 0.97197898, 0.9737303 , 0.96842105, 0.96666667])"
      ]
     },
     "execution_count": 58,
     "metadata": {},
     "output_type": "execute_result"
    }
   ],
   "source": [
    "from sklearn.model_selection import KFold, cross_val_score\n",
    "\n",
    "rf = RandomForestClassifier(n_jobs=-1)\n",
    "k_fold = KFold(n_splits = 5, n_jobs=-1)\n",
    "cross_val_score(rf, X_tfidf_features, data['label'], cv=k_fold)"
   ]
  },
  {
   "cell_type": "code",
   "execution_count": 59,
   "metadata": {},
   "outputs": [
    {
     "data": {
      "text/plain": [
       "array([0.9737303 , 0.9737303 , 0.9737303 , 0.96666667, 0.95789474])"
      ]
     },
     "execution_count": 59,
     "metadata": {},
     "output_type": "execute_result"
    }
   ],
   "source": [
    "rf = RandomForestClassifier(n_jobs=-1)\n",
    "k_fold = KFold(n_splits = 5, n_jobs=-1)\n",
    "cross_val_score(rf, X_count_features, data['label'], cv=k_fold)"
   ]
  },
  {
   "cell_type": "markdown",
   "metadata": {},
   "source": [
    "<b>Exploring random forest classifier with Hold-out set (Train, Test)</b>"
   ]
  },
  {
   "cell_type": "code",
   "execution_count": 60,
   "metadata": {},
   "outputs": [],
   "source": [
    "rf = RandomForestClassifier(n_estimators=50, max_depth=20, n_jobs=-1)\n",
    "rf_model_tf = rf.fit(X_train_tf, y_train_tf)"
   ]
  },
  {
   "cell_type": "markdown",
   "metadata": {},
   "source": [
    "<b>Exploring Feature importance given by model after training</b>"
   ]
  },
  {
   "cell_type": "code",
   "execution_count": 61,
   "metadata": {},
   "outputs": [
    {
     "data": {
      "text/plain": [
       "[(0.01498542648513759, 20993),\n",
       " (0.014756020792772067, 22559),\n",
       " (0.014093421257185235, 19715),\n",
       " (0.014064935823676215, 12837),\n",
       " (0.014033759311221914, 27733),\n",
       " (0.008526882067379254, 9037),\n",
       " (0.008475538499612053, 13772),\n",
       " (0.00799430074805336, 'punct%'),\n",
       " (0.007701348832169136, 1847),\n",
       " (0.00731471002185174, 9296)]"
      ]
     },
     "execution_count": 61,
     "metadata": {},
     "output_type": "execute_result"
    }
   ],
   "source": [
    "sorted(zip(rf_model_tf.feature_importances_, X_tfidf_features.columns), reverse=True)[:10]"
   ]
  },
  {
   "cell_type": "code",
   "execution_count": 62,
   "metadata": {},
   "outputs": [],
   "source": [
    "rf = RandomForestClassifier(n_estimators=50, max_depth=20, n_jobs=-1)\n",
    "rf_model_count = rf.fit(X_train_count, y_train_count)"
   ]
  },
  {
   "cell_type": "code",
   "execution_count": 63,
   "metadata": {},
   "outputs": [
    {
     "data": {
      "text/plain": [
       "[(0.02448675857199041, 19910),\n",
       " (0.020257651197281686, 22559),\n",
       " (0.016945030846619195, 18973),\n",
       " (0.015324894974452743, 12837),\n",
       " (0.013051526285028488, 28436),\n",
       " (0.01110253729940127, 20993),\n",
       " (0.01103515160143115, 8850),\n",
       " (0.008263847007729015, 19940),\n",
       " (0.007964582061844114, 9296),\n",
       " (0.007962894382079932, 27733)]"
      ]
     },
     "execution_count": 63,
     "metadata": {},
     "output_type": "execute_result"
    }
   ],
   "source": [
    "sorted(zip(rf_model_count.feature_importances_, X_count_features.columns), reverse=True)[:10]"
   ]
  },
  {
   "cell_type": "markdown",
   "metadata": {},
   "source": [
    "<b>Metrics</b>"
   ]
  },
  {
   "cell_type": "code",
   "execution_count": 64,
   "metadata": {},
   "outputs": [
    {
     "name": "stdout",
     "output_type": "stream",
     "text": [
      "Precision: 1.0 / Recall: 0.571 / Accuracy: 0.932\n"
     ]
    }
   ],
   "source": [
    "from sklearn.metrics import precision_recall_fscore_support as score\n",
    "\n",
    "y_pred_tf = rf_model_tf.predict(X_test_tf)\n",
    "precision, recall, fscore, support = score(y_test_tf, y_pred_tf, pos_label=0, average='binary')\n",
    "\n",
    "print(\"Precision: {} / Recall: {} / Accuracy: {}\".format(round(precision ,3),\n",
    "                                                         round(recall, 3),\n",
    "                                                         round((y_pred_tf == y_test_tf).sum()/len(y_pred_tf),3)))"
   ]
  },
  {
   "cell_type": "code",
   "execution_count": 65,
   "metadata": {},
   "outputs": [
    {
     "name": "stdout",
     "output_type": "stream",
     "text": [
      "Precision: 1.0 / Recall: 0.593 / Accuracy: 0.935\n"
     ]
    }
   ],
   "source": [
    "y_pred_count = rf_model_count.predict(X_test_count)\n",
    "precision, recall, fscore, support = score(y_test_count, y_pred_count, pos_label=0, average='binary')\n",
    "\n",
    "print(\"Precision: {} / Recall: {} / Accuracy: {}\".format(round(precision ,3),\n",
    "                                                         round(recall, 3),\n",
    "                                                         round((y_pred_count == y_test_count).sum()/len(y_pred_count),3)))"
   ]
  },
  {
   "cell_type": "markdown",
   "metadata": {},
   "source": [
    "<b>Tuning Hyper parameters using Grid Sreach CV</b>"
   ]
  },
  {
   "cell_type": "markdown",
   "metadata": {},
   "source": [
    "<li>Self made Grid Search CV</li>"
   ]
  },
  {
   "cell_type": "code",
   "execution_count": 66,
   "metadata": {},
   "outputs": [],
   "source": [
    "def train_RF(n_est, depth, X_train, X_test, y_train, y_test):\n",
    "    rf = RandomForestClassifier(n_estimators=n_est, max_depth=depth, n_jobs=-1)\n",
    "    rf_model = rf.fit(X_train, y_train)\n",
    "    y_pred = rf_model.predict(X_test)\n",
    "    precision, recall, fscore, support = score(y_test, y_pred, pos_label=0, average='binary')\n",
    "\n",
    "    print(\"Est: {} / Depth: {} / ------- Precision: {} / Recall: {} / Accuracy: {}\".format(n_est, depth, round(precision ,3),\n",
    "                                                         round(recall, 3),\n",
    "                                                         round((y_pred == y_test).sum()/len(y_pred),3)))"
   ]
  },
  {
   "cell_type": "code",
   "execution_count": 67,
   "metadata": {},
   "outputs": [
    {
     "name": "stdout",
     "output_type": "stream",
     "text": [
      "Est: 10 / Depth: 10 / ------- Precision: 1.0 / Recall: 0.352 / Accuracy: 0.897\n",
      "Est: 10 / Depth: 20 / ------- Precision: 1.0 / Recall: 0.56 / Accuracy: 0.93\n",
      "Est: 10 / Depth: 30 / ------- Precision: 0.966 / Recall: 0.626 / Accuracy: 0.937\n",
      "Est: 10 / Depth: None / ------- Precision: 1.0 / Recall: 0.714 / Accuracy: 0.954\n",
      "Est: 50 / Depth: 10 / ------- Precision: 1.0 / Recall: 0.341 / Accuracy: 0.895\n",
      "Est: 50 / Depth: 20 / ------- Precision: 1.0 / Recall: 0.582 / Accuracy: 0.933\n",
      "Est: 50 / Depth: 30 / ------- Precision: 1.0 / Recall: 0.615 / Accuracy: 0.939\n",
      "Est: 50 / Depth: None / ------- Precision: 1.0 / Recall: 0.714 / Accuracy: 0.954\n",
      "Est: 100 / Depth: 10 / ------- Precision: 1.0 / Recall: 0.286 / Accuracy: 0.886\n",
      "Est: 100 / Depth: 20 / ------- Precision: 1.0 / Recall: 0.593 / Accuracy: 0.935\n",
      "Est: 100 / Depth: 30 / ------- Precision: 1.0 / Recall: 0.626 / Accuracy: 0.94\n",
      "Est: 100 / Depth: None / ------- Precision: 1.0 / Recall: 0.703 / Accuracy: 0.953\n"
     ]
    }
   ],
   "source": [
    "for n_est in [10, 50, 100]:\n",
    "    for depth in [10, 20, 30 , None]:\n",
    "        train_RF(n_est, depth, X_train_tf, X_test_tf, y_train_tf, y_test_tf)"
   ]
  },
  {
   "cell_type": "code",
   "execution_count": 68,
   "metadata": {},
   "outputs": [
    {
     "name": "stdout",
     "output_type": "stream",
     "text": [
      "Est: 10 / Depth: 10 / ------- Precision: 1.0 / Recall: 0.385 / Accuracy: 0.902\n",
      "Est: 10 / Depth: 20 / ------- Precision: 0.98 / Recall: 0.538 / Accuracy: 0.925\n",
      "Est: 10 / Depth: 30 / ------- Precision: 0.983 / Recall: 0.648 / Accuracy: 0.942\n",
      "Est: 10 / Depth: None / ------- Precision: 0.986 / Recall: 0.769 / Accuracy: 0.961\n",
      "Est: 50 / Depth: 10 / ------- Precision: 1.0 / Recall: 0.363 / Accuracy: 0.898\n",
      "Est: 50 / Depth: 20 / ------- Precision: 1.0 / Recall: 0.582 / Accuracy: 0.933\n",
      "Est: 50 / Depth: 30 / ------- Precision: 1.0 / Recall: 0.615 / Accuracy: 0.939\n",
      "Est: 50 / Depth: None / ------- Precision: 1.0 / Recall: 0.692 / Accuracy: 0.951\n",
      "Est: 100 / Depth: 10 / ------- Precision: 1.0 / Recall: 0.33 / Accuracy: 0.893\n",
      "Est: 100 / Depth: 20 / ------- Precision: 1.0 / Recall: 0.571 / Accuracy: 0.932\n",
      "Est: 100 / Depth: 30 / ------- Precision: 1.0 / Recall: 0.626 / Accuracy: 0.94\n",
      "Est: 100 / Depth: None / ------- Precision: 1.0 / Recall: 0.703 / Accuracy: 0.953\n"
     ]
    }
   ],
   "source": [
    "for n_est in [10, 50, 100]:\n",
    "    for depth in [10, 20, 30 , None]:\n",
    "        train_RF(n_est, depth, X_train_count, X_test_count, y_train_count, y_test_count)"
   ]
  },
  {
   "cell_type": "code",
   "execution_count": 70,
   "metadata": {},
   "outputs": [
    {
     "name": "stdout",
     "output_type": "stream",
     "text": [
      "Confusion Marix\n",
      "[[ 54  37]\n",
      " [  0 480]]\n",
      "\n",
      "Classification report:\n",
      "              precision    recall  f1-score   support\n",
      "\n",
      "        spam       1.00      0.59      0.74        91\n",
      "         ham       0.93      1.00      0.96       480\n",
      "\n",
      "    accuracy                           0.94       571\n",
      "   macro avg       0.96      0.80      0.85       571\n",
      "weighted avg       0.94      0.94      0.93       571\n",
      "\n"
     ]
    }
   ],
   "source": [
    "from sklearn.metrics import confusion_matrix\n",
    "from sklearn.metrics import classification_report\n",
    "\n",
    "print(\"Confusion Marix\")\n",
    "print(confusion_matrix(y_test_count, y_pred_count))\n",
    "print(\"\\nClassification report:\")\n",
    "report = classification_report(y_test_count, y_pred_count, target_names=['spam', 'ham'])\n",
    "print(report)"
   ]
  },
  {
   "cell_type": "code",
   "execution_count": 71,
   "metadata": {},
   "outputs": [
    {
     "name": "stdout",
     "output_type": "stream",
     "text": [
      "Cconfusion Marix\n",
      "[[ 52  39]\n",
      " [  0 480]]\n",
      "\n",
      "Classification report:\n",
      "              precision    recall  f1-score   support\n",
      "\n",
      "        spam       1.00      0.57      0.73        91\n",
      "         ham       0.92      1.00      0.96       480\n",
      "\n",
      "    accuracy                           0.93       571\n",
      "   macro avg       0.96      0.79      0.84       571\n",
      "weighted avg       0.94      0.93      0.92       571\n",
      "\n"
     ]
    }
   ],
   "source": [
    "print(\"Cconfusion Marix\")\n",
    "print(confusion_matrix(y_test_tf, y_pred_tf))\n",
    "print(\"\\nClassification report:\")\n",
    "report = classification_report(y_test_tf, y_pred_tf, target_names=['spam', 'ham'])\n",
    "print(report)"
   ]
  },
  {
   "cell_type": "markdown",
   "metadata": {},
   "source": [
    "<b>Naive Bayes Algorithm</b>"
   ]
  },
  {
   "cell_type": "code",
   "execution_count": 90,
   "metadata": {},
   "outputs": [
    {
     "name": "stdout",
     "output_type": "stream",
     "text": [
      "['__abstractmethods__', '__class__', '__delattr__', '__dict__', '__dir__', '__doc__', '__eq__', '__format__', '__ge__', '__getattribute__', '__getstate__', '__gt__', '__hash__', '__init__', '__init_subclass__', '__le__', '__lt__', '__module__', '__ne__', '__new__', '__reduce__', '__reduce_ex__', '__repr__', '__setattr__', '__setstate__', '__sizeof__', '__str__', '__subclasshook__', '__weakref__', '_abc_impl', '_check_X', '_check_n_features', '_estimator_type', '_get_param_names', '_get_tags', '_joint_log_likelihood', '_more_tags', '_partial_fit', '_repr_html_', '_repr_html_inner', '_repr_mimebundle_', '_update_mean_variance', '_validate_data', 'fit', 'get_params', 'partial_fit', 'predict', 'predict_log_proba', 'predict_proba', 'priors', 'score', 'set_params', 'var_smoothing']\n"
     ]
    }
   ],
   "source": [
    "from sklearn.naive_bayes import GaussianNB\n",
    "from sklearn.model_selection import GridSearchCV\n",
    "\n",
    "print(dir(GaussianNB()))"
   ]
  },
  {
   "cell_type": "code",
   "execution_count": 93,
   "metadata": {},
   "outputs": [],
   "source": [
    "nb = GaussianNB()\n",
    "nb_model = nb.fit(X_train_tf, y_train_tf)"
   ]
  },
  {
   "cell_type": "code",
   "execution_count": 94,
   "metadata": {},
   "outputs": [
    {
     "name": "stdout",
     "output_type": "stream",
     "text": [
      "Confusion matrix: \n",
      " [[ 67  24]\n",
      " [  5 475]]\n",
      "Classification report: \n",
      "               precision    recall  f1-score   support\n",
      "\n",
      "        spam       0.93      0.74      0.82        91\n",
      "         ham       0.95      0.99      0.97       480\n",
      "\n",
      "    accuracy                           0.95       571\n",
      "   macro avg       0.94      0.86      0.90       571\n",
      "weighted avg       0.95      0.95      0.95       571\n",
      "\n"
     ]
    }
   ],
   "source": [
    "y_pred_tf = nb_model.predict(X_test_tf)\n",
    "print(\"Confusion matrix: \\n\", confusion_matrix(y_test_tf, y_pred_tf))\n",
    "report = classification_report(y_test_tf, y_pred_tf, target_names=[\"spam\", \"ham\"])\n",
    "print(\"Classification report: \\n\",report)"
   ]
  },
  {
   "cell_type": "code",
   "execution_count": 100,
   "metadata": {},
   "outputs": [
    {
     "name": "stdout",
     "output_type": "stream",
     "text": [
      "Precision: 1.0 / Recall: 0.593 / Accuracy: 0.928\n"
     ]
    }
   ],
   "source": [
    "print(\"Precision: {} / Recall: {} / Accuracy: {}\".format(round(precision ,3),\n",
    "                                                         round(recall, 3),\n",
    "                                                         round((y_pred_tf == y_test_tf).sum()/len(y_pred_tf),3)))"
   ]
  },
  {
   "cell_type": "markdown",
   "metadata": {},
   "source": [
    "<b>Support Vector Machine</b>"
   ]
  },
  {
   "cell_type": "code",
   "execution_count": 92,
   "metadata": {},
   "outputs": [],
   "source": [
    "from sklearn.svm import SVC\n",
    "\n",
    "print(dir(SVC()))\n",
    "svm_classifier = SVC()\n",
    "svc_model = svm_classifier.fit(X_train_tf, y_train_tf)"
   ]
  },
  {
   "cell_type": "code",
   "execution_count": 98,
   "metadata": {},
   "outputs": [
    {
     "name": "stdout",
     "output_type": "stream",
     "text": [
      "Confusion matrix:\n",
      " [[ 50   0]\n",
      " [ 41 480]]\n",
      "Classification report:\n",
      "               precision    recall  f1-score   support\n",
      "\n",
      "        spam       0.55      1.00      0.71        50\n",
      "         ham       1.00      0.92      0.96       521\n",
      "\n",
      "    accuracy                           0.93       571\n",
      "   macro avg       0.77      0.96      0.83       571\n",
      "weighted avg       0.96      0.93      0.94       571\n",
      "\n"
     ]
    }
   ],
   "source": [
    "y_pred_tf = svc_model.predict(X_test_tf)\n",
    "print(\"Confusion matrix:\\n\", confusion_matrix(y_pred_tf, y_test_tf))\n",
    "print(\"Classification report:\\n\", classification_report(y_pred_tf, y_test_tf, target_names = [\"spam\", \"ham\"]))"
   ]
  },
  {
   "cell_type": "code",
   "execution_count": 99,
   "metadata": {},
   "outputs": [
    {
     "name": "stdout",
     "output_type": "stream",
     "text": [
      "Precision: 1.0 / Recall: 0.593 / Accuracy: 0.928\n"
     ]
    }
   ],
   "source": [
    "print(\"Precision: {} / Recall: {} / Accuracy: {}\".format(round(precision ,3),\n",
    "                                                         round(recall, 3),\n",
    "                                                         round((y_pred_tf == y_test_tf).sum()/len(y_pred_tf),3)))"
   ]
  },
  {
   "cell_type": "markdown",
   "metadata": {},
   "source": [
    "<b>Real time Predictions</b>"
   ]
  },
  {
   "cell_type": "code",
   "execution_count": 101,
   "metadata": {},
   "outputs": [],
   "source": [
    "with open(\"sample.txt\", \"r\") as file:\n",
    "    message = file.read()"
   ]
  },
  {
   "cell_type": "code",
   "execution_count": 107,
   "metadata": {},
   "outputs": [
    {
     "name": "stdout",
     "output_type": "stream",
     "text": [
      "Data length: 297 / Punctuation %: 4.1\n"
     ]
    }
   ],
   "source": [
    "message_clean_html = cleanhtml(message)\n",
    "l = message_clean_html.replace('\\n',' ')\n",
    "punct_percent = count_punctuation(l)\n",
    "s = re.sub(r\"[^a-zA-Z0-9]+\", ' ', l)\n",
    "s = s.lower()\n",
    "data_length = len(s) - s.count(\" \")\n",
    "print(\"Data length: {} / Punctuation %: {}\".format(data_length, punct_percent))"
   ]
  },
  {
   "cell_type": "code",
   "execution_count": 114,
   "metadata": {},
   "outputs": [
    {
     "data": {
      "text/html": [
       "<div>\n",
       "<style scoped>\n",
       "    .dataframe tbody tr th:only-of-type {\n",
       "        vertical-align: middle;\n",
       "    }\n",
       "\n",
       "    .dataframe tbody tr th {\n",
       "        vertical-align: top;\n",
       "    }\n",
       "\n",
       "    .dataframe thead th {\n",
       "        text-align: right;\n",
       "    }\n",
       "</style>\n",
       "<table border=\"1\" class=\"dataframe\">\n",
       "  <thead>\n",
       "    <tr style=\"text-align: right;\">\n",
       "      <th></th>\n",
       "      <th>body_text</th>\n",
       "      <th>punct%</th>\n",
       "      <th>body_len</th>\n",
       "    </tr>\n",
       "  </thead>\n",
       "  <tbody>\n",
       "    <tr>\n",
       "      <th>0</th>\n",
       "      <td>disney hotstar unsubscribe thu jan 14 10 50 pm to me don t miss jayam ravi s action packed drama as he embarks on a journey to get back to his roots disney hotstar vip and premium subscribers can watch multiplex movies at no additional cost get on mobile watch on tv got questions email us at vip hotstar com 2021 disney and its related entities click here to optout</td>\n",
       "      <td>4.1</td>\n",
       "      <td>297</td>\n",
       "    </tr>\n",
       "  </tbody>\n",
       "</table>\n",
       "</div>"
      ],
      "text/plain": [
       "                                                                                                                                                                                                                                                                                                                                                                         body_text  \\\n",
       "0  disney hotstar unsubscribe thu jan 14 10 50 pm to me don t miss jayam ravi s action packed drama as he embarks on a journey to get back to his roots disney hotstar vip and premium subscribers can watch multiplex movies at no additional cost get on mobile watch on tv got questions email us at vip hotstar com 2021 disney and its related entities click here to optout    \n",
       "\n",
       "   punct%  body_len  \n",
       "0     4.1       297  "
      ]
     },
     "execution_count": 114,
     "metadata": {},
     "output_type": "execute_result"
    }
   ],
   "source": [
    "message_data = pd.DataFrame({\"body_text\": [s]})\n",
    "message_data[\"punct%\"] = punct_percent\n",
    "message_data[\"body_len\"] = data_length\n",
    "message_data"
   ]
  },
  {
   "cell_type": "code",
   "execution_count": 136,
   "metadata": {},
   "outputs": [],
   "source": [
    "test = tf_vect.transform(message_data['body_text'])\n",
    "test_features = pd.concat([message_data['body_len'], message_data['punct%'], pd.DataFrame(test.toarray())], axis=1)"
   ]
  },
  {
   "cell_type": "code",
   "execution_count": 137,
   "metadata": {},
   "outputs": [
    {
     "data": {
      "text/html": [
       "<div>\n",
       "<style scoped>\n",
       "    .dataframe tbody tr th:only-of-type {\n",
       "        vertical-align: middle;\n",
       "    }\n",
       "\n",
       "    .dataframe tbody tr th {\n",
       "        vertical-align: top;\n",
       "    }\n",
       "\n",
       "    .dataframe thead th {\n",
       "        text-align: right;\n",
       "    }\n",
       "</style>\n",
       "<table border=\"1\" class=\"dataframe\">\n",
       "  <thead>\n",
       "    <tr style=\"text-align: right;\">\n",
       "      <th></th>\n",
       "      <th>body_len</th>\n",
       "      <th>punct%</th>\n",
       "      <th>0</th>\n",
       "      <th>1</th>\n",
       "      <th>2</th>\n",
       "      <th>3</th>\n",
       "      <th>4</th>\n",
       "      <th>5</th>\n",
       "      <th>6</th>\n",
       "      <th>7</th>\n",
       "      <th>...</th>\n",
       "      <th>29376</th>\n",
       "      <th>29377</th>\n",
       "      <th>29378</th>\n",
       "      <th>29379</th>\n",
       "      <th>29380</th>\n",
       "      <th>29381</th>\n",
       "      <th>29382</th>\n",
       "      <th>29383</th>\n",
       "      <th>29384</th>\n",
       "      <th>29385</th>\n",
       "    </tr>\n",
       "  </thead>\n",
       "  <tbody>\n",
       "    <tr>\n",
       "      <th>0</th>\n",
       "      <td>297</td>\n",
       "      <td>4.1</td>\n",
       "      <td>0.026148</td>\n",
       "      <td>0.0</td>\n",
       "      <td>0.0</td>\n",
       "      <td>0.0</td>\n",
       "      <td>0.0</td>\n",
       "      <td>0.0</td>\n",
       "      <td>0.0</td>\n",
       "      <td>0.0</td>\n",
       "      <td>...</td>\n",
       "      <td>0.0</td>\n",
       "      <td>0.0</td>\n",
       "      <td>0.0</td>\n",
       "      <td>0.0</td>\n",
       "      <td>0.0</td>\n",
       "      <td>0.0</td>\n",
       "      <td>0.0</td>\n",
       "      <td>0.0</td>\n",
       "      <td>0.0</td>\n",
       "      <td>0.0</td>\n",
       "    </tr>\n",
       "  </tbody>\n",
       "</table>\n",
       "<p>1 rows × 29388 columns</p>\n",
       "</div>"
      ],
      "text/plain": [
       "   body_len  punct%         0    1    2    3    4    5    6    7  ...  29376  \\\n",
       "0       297     4.1  0.026148  0.0  0.0  0.0  0.0  0.0  0.0  0.0  ...    0.0   \n",
       "\n",
       "   29377  29378  29379  29380  29381  29382  29383  29384  29385  \n",
       "0    0.0    0.0    0.0    0.0    0.0    0.0    0.0    0.0    0.0  \n",
       "\n",
       "[1 rows x 29388 columns]"
      ]
     },
     "execution_count": 137,
     "metadata": {},
     "output_type": "execute_result"
    }
   ],
   "source": [
    "test_features"
   ]
  },
  {
   "cell_type": "code",
   "execution_count": 139,
   "metadata": {},
   "outputs": [
    {
     "name": "stdout",
     "output_type": "stream",
     "text": [
      "Ham\n"
     ]
    }
   ],
   "source": [
    "if rf_model_tf.predict(test_features) == 0:\n",
    "    print(\"Spam\")\n",
    "else:\n",
    "    print(\"Ham\")"
   ]
  },
  {
   "cell_type": "code",
   "execution_count": null,
   "metadata": {},
   "outputs": [],
   "source": []
  }
 ],
 "metadata": {
  "kernelspec": {
   "display_name": "Python 3",
   "language": "python",
   "name": "python3"
  },
  "language_info": {
   "codemirror_mode": {
    "name": "ipython",
    "version": 3
   },
   "file_extension": ".py",
   "mimetype": "text/x-python",
   "name": "python",
   "nbconvert_exporter": "python",
   "pygments_lexer": "ipython3",
   "version": "3.8.5"
  }
 },
 "nbformat": 4,
 "nbformat_minor": 4
}
